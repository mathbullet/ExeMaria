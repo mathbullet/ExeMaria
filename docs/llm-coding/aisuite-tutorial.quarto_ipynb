{
  "cells": [
    {
      "cell_type": "markdown",
      "metadata": {},
      "source": [
        "---\n",
        "title: \"aisuite --- 複数のLLMを最小の労力で動かす\"\n",
        "jupyter: python3\n",
        "author: mathbullet\n",
        "format:\n",
        "  html:\n",
        "    toc: true\n",
        "    code-fold: false\n",
        "---\n",
        "\n",
        "\n",
        "このノートブックでは、LLMとのCUIベースの対話において、**LLMプロバイダやモデルの切り替え**にかかる労力を最小化するライブラリ、[aisuite](https://github.com/andrewyng/aisuite/tree/main)について説明します。\n",
        "\n",
        "## 背景\n",
        "\n",
        "HuggingFace TransformersやLangChainといった既存のライブラリを使ってLLMにプロンプトを入力し、出力結果を得ることは可能です。しかし、**これらのライブラリは使用するLLMのモデルやプロバイダによってインポートすべきクラスや必要な前後処理が異なる場合があり、これが若干の手間になっています**。\n",
        "\n",
        "例えばLangChain v.0.3では、LLMのプロバイダごとに異なるパッケージが用意されています。そのため、プロバイダごとにパッケージをインストールし、**プロバイダごとに異なるコードでLLMと対話することになります**。Anthropic、OpenAIのモデルの出力を比較をしたい、という時は、以下のような手順を踏む必要があります。\n",
        "\n",
        "``` sh\n",
        "pip install \\\n",
        "    langchain \\\n",
        "    langchain-anthropic \\\n",
        "    langchain-openai\n",
        "```\n"
      ],
      "id": "12b5b5a3"
    },
    {
      "cell_type": "code",
      "metadata": {},
      "source": [
        "# AnthropicのClaude 3 Opusを使用する場合\n",
        "from langchain_anthropic import ChatAnthropic\n",
        "\n",
        "model = ChatAnthropic(model=\"claude-3-opus-20240229\")\n",
        "response = model.invoke(\"こんにちは！あなたは誰ですか？\")\n",
        "print(response.content)"
      ],
      "id": "ec332af5",
      "execution_count": null,
      "outputs": []
    },
    {
      "cell_type": "code",
      "metadata": {},
      "source": [
        "# OpenAIのGPT-4oを使用する場合\n",
        "from langchain_openai import ChatOpenAI\n",
        "\n",
        "model = ChatOpenAI(model=\"gpt-4o\")\n",
        "response = model.invoke(\"こんにちは！あなたは誰ですか？\")\n",
        "print(response.content)"
      ],
      "id": "05beac94",
      "execution_count": null,
      "outputs": []
    },
    {
      "cell_type": "markdown",
      "metadata": {},
      "source": [
        "ここでは実行はしませんが、HuggingFaceのモデルを使う場合はさらに差分が大きくなります。\n",
        "\n",
        "``` sh\n",
        "pip install langchain-huggingface\n",
        "```\n",
        "\n",
        "``` python\n",
        "from langchain_huggingface import ChatHuggingFace, HuggingFaceEndpoint\n",
        "\n",
        "llm = HuggingFaceEndpoint(\n",
        "    repo_id=\"HuggingFaceH4/zephyr-7b-beta\",\n",
        "    max_new_tokens=256,\n",
        ")\n",
        "\n",
        "model = ChatHuggingFace(llm=llm)\n",
        "response = model.invoke(\"こんにちは！あなたは誰ですか？\")\n",
        "print(response.content)\n",
        "```\n",
        "\n",
        "毎度使うモデルやプロバイダが変わるたびにコードの書き心地が変わるより、全て統一のインターフェースで使える方がいいよね、というのがaisuiteのモチベーションです。\n",
        "\n",
        "## aisuite\n",
        "\n",
        "それではaisuiteを触ってみましょう。以下コマンドでインストールします。\n",
        "\n",
        "``` sh\n",
        "pip install 'aisuite[all]'\n",
        "```\n",
        "\n",
        "先ほどと同じように、複数プロバイダのLLMを使用するとき、プロバイダごとに別途用意する必要があるのは`{プロバイダ名}:{モデル名}`という形式の文字列のみです。\n"
      ],
      "id": "d8eeedad"
    },
    {
      "cell_type": "code",
      "metadata": {},
      "source": [
        "claude3opus = \"anthropic:claude-3-opus-20240229\"\n",
        "gpt4o = \"openai:gpt-4o\"\n",
        "# zephyr = \"huggingface:HuggingFaceH4/zephyr-7b-beta\""
      ],
      "id": "20309c53",
      "execution_count": null,
      "outputs": []
    },
    {
      "cell_type": "markdown",
      "metadata": {},
      "source": [
        "どのプロバイダのどのモデルを使うとしても、モデルからの応答を得る方法は同じです。まずは`Client`というクラスのインスタンスを作成します。\n"
      ],
      "id": "6a363efb"
    },
    {
      "cell_type": "code",
      "metadata": {},
      "source": [
        "import aisuite\n",
        "\n",
        "client = aisuite.Client()"
      ],
      "id": "1f7385bc",
      "execution_count": null,
      "outputs": []
    },
    {
      "cell_type": "markdown",
      "metadata": {},
      "source": [
        "併せて、モデルに入力するメッセージも作成しておきます。\n"
      ],
      "id": "87abed10"
    },
    {
      "cell_type": "code",
      "metadata": {},
      "source": [
        "messages = [\n",
        "    {\"role\": \"user\", \"content\": \"こんにちは！あなたは誰ですか？\"}\n",
        "]"
      ],
      "id": "b0cb8f1c",
      "execution_count": null,
      "outputs": []
    },
    {
      "cell_type": "markdown",
      "metadata": {},
      "source": [
        "そして、`client.chat.completions.create`というメソッドによってメッセージの送信を行います。\n",
        "\n",
        "Claudeを使う場合は以下のようになります。\n"
      ],
      "id": "dda1b9ec"
    },
    {
      "cell_type": "code",
      "metadata": {},
      "source": [
        "response = client.chat.completions.create(\n",
        "        model=claude3opus,\n",
        "        messages=messages\n",
        "    )\n",
        "print(response.choices[0].message.content)"
      ],
      "id": "3f0c47fe",
      "execution_count": null,
      "outputs": []
    },
    {
      "cell_type": "markdown",
      "metadata": {},
      "source": [
        "GPT-4oを使う場合は以下のようになります。\n"
      ],
      "id": "8f5606bd"
    },
    {
      "cell_type": "code",
      "metadata": {},
      "source": [
        "response = client.chat.completions.create(\n",
        "        model=gpt4o,\n",
        "        messages=messages\n",
        "    )\n",
        "print(response.choices[0].message.content)"
      ],
      "id": "61d95064",
      "execution_count": null,
      "outputs": []
    },
    {
      "cell_type": "markdown",
      "metadata": {},
      "source": [
        "ここで、両者が異なるのは`model`の値のみである点に注目してください。プロバイダやモデルを変えたい場合はここを書き換えるだけでよく、差分が最小化されていることがわかります。\n",
        "\n",
        "LLMの性能比較を行う際など、複数のLLMを呼び出して応答を得たい場面で有用ではないかと思います。また、シンプルに綺麗なインターフェースで使いやすいので、さらに機能が追加されて活用できる場面が広がると嬉しいですね。\n",
        "\n",
        "## 補足"
      ],
      "id": "614c9c98"
    }
  ],
  "metadata": {
    "kernelspec": {
      "display_name": "Python 3",
      "language": "python",
      "name": "python3"
    }
  },
  "nbformat": 4,
  "nbformat_minor": 5
}